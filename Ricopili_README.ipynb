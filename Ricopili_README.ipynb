{
 "cells": [
  {
   "cell_type": "markdown",
   "metadata": {},
   "source": [
    "# Installing Ricopili"
   ]
  },
  {
   "cell_type": "markdown",
   "metadata": {},
   "source": [
    "Please go through this document step by step."
   ]
  },
  {
   "cell_type": "markdown",
   "metadata": {},
   "source": [
    "# 1. Log to the Broad server"
   ]
  },
  {
   "cell_type": "code",
   "execution_count": null,
   "metadata": {
    "collapsed": true
   },
   "outputs": [],
   "source": [
    "ssh ldomenec@login.broadinstitute.org"
   ]
  },
  {
   "cell_type": "markdown",
   "metadata": {},
   "source": [
    "use UGER"
   ]
  },
  {
   "cell_type": "markdown",
   "metadata": {},
   "source": [
    "ish -l h_vmem=8G (or the necessary memory)"
   ]
  },
  {
   "cell_type": "markdown",
   "metadata": {},
   "source": [
    "# 2. Download Ricopili Dependencies (all necessary binaries and additional datafiles):"
   ]
  },
  {
   "cell_type": "markdown",
   "metadata": {},
   "source": [
    "2.1. Download Ricopili Dependencies:"
   ]
  },
  {
   "cell_type": "markdown",
   "metadata": {
    "collapsed": true
   },
   "source": [
    "wget https://personal.broadinstitute.org/sripke/share_links/JeklRDhPD6FKm8Gnda7JsUOsMan2P2_Ricopili_Dependencies.1118b.tar.gz/Ricopili_Dependencies.1118b.tar.gz"
   ]
  },
  {
   "cell_type": "markdown",
   "metadata": {
    "collapsed": true
   },
   "source": [
    "wget https://personal.broadinstitute.org/sripke/share_links/JeklRDhPD6FKm8Gnda7JsUOsMan2P2_Ricopili_Dependencies.1118b.tar.gz/Ricopili_Dependencies.1118b.tar.gz.cksum.txt"
   ]
  },
  {
   "cell_type": "markdown",
   "metadata": {
    "collapsed": true
   },
   "source": [
    "Compare “cksum Ricopili_Dependencies.1118b.tar.gz” with content of “Ricopili_Dependencies.1118b.cksum.txt”"
   ]
  },
  {
   "cell_type": "markdown",
   "metadata": {},
   "source": [
    "2.2. Test and configure Dependencies. Try if you can start the following binaries:"
   ]
  },
  {
   "cell_type": "code",
   "execution_count": null,
   "metadata": {
    "collapsed": true
   },
   "outputs": [],
   "source": [
    "./eagle/eagle \t(version in this package 2.3.5)\n",
    "./eigensoft/EIG-6.1.4/bin/smartpca.perl\n",
    "./impute_v2/impute2 \t(version 2.3.2)\n",
    "./impute_v4/impute4.r265.2\n",
    "./metal/metal \t(version 2011-03-25)\n",
    "./liftover/liftOver\n",
    "./plink/plink\t(version v1.90b6.4 64-bit)\n",
    "./shapeit3/shapeit3.r884.1\n",
    "./shapeit/shapeit.v2.r837.linux.x86_64\n",
    "./Minimac3/Minimac3 \t(version 2.0.1)\n",
    "./tabix/tabix\t(version 74bcfd7-dirty)\n",
    "./bgzip/bgzip\t(version 74bcfd7-dirty)\n",
    "./bcftools/bcftools-1.9_bin/bcftools\t(version 1.9)"
   ]
  },
  {
   "cell_type": "markdown",
   "metadata": {},
   "source": [
    "2.3. Get file human_g1k_v37.fasta in place (download this file, then extract and put into directory bcftools/resources)"
   ]
  },
  {
   "cell_type": "code",
   "execution_count": null,
   "metadata": {
    "collapsed": true
   },
   "outputs": [],
   "source": [
    "- cd bcftools/resources\n",
    "- wget http://ftp.1000genomes.ebi.ac.uk/vol1/ftp/technical/reference/human_g1k_v37.fasta.gz\n",
    "- gunzip human_g1k_v37.fasta.gz\n",
    "- cd -"
   ]
  },
  {
   "cell_type": "markdown",
   "metadata": {},
   "source": [
    "2.4. Install LDscore"
   ]
  },
  {
   "cell_type": "markdown",
   "metadata": {},
   "source": [
    "a) Install \"conda\" for software package management (already installed at Broad server)"
   ]
  },
  {
   "cell_type": "markdown",
   "metadata": {},
   "source": [
    "b) Follow instructions on LDSC Github page (https://github.com/bulik/ldsc):"
   ]
  },
  {
   "cell_type": "markdown",
   "metadata": {},
   "source": [
    "- Downlowad ldsc"
   ]
  },
  {
   "cell_type": "code",
   "execution_count": null,
   "metadata": {
    "collapsed": true
   },
   "outputs": [],
   "source": [
    "git clone https://github.com/bulik/ldsc.git"
   ]
  },
  {
   "cell_type": "code",
   "execution_count": null,
   "metadata": {
    "collapsed": true
   },
   "outputs": [],
   "source": [
    "cd ldsc"
   ]
  },
  {
   "cell_type": "markdown",
   "metadata": {},
   "source": [
    "- In order to install the Python dependencies, you will need the Anaconda Python distribution and package manager. "
   ]
  },
  {
   "cell_type": "code",
   "execution_count": null,
   "metadata": {
    "collapsed": true
   },
   "outputs": [],
   "source": [
    "use .anaconda2-5.3.1"
   ]
  },
  {
   "cell_type": "markdown",
   "metadata": {},
   "source": [
    "Comments here:\n",
    "\n",
    "last version at June 26th 2020 is \".anaconda3-5.3.1\", but it looks like \"munge_sumstats.py\" (that we will need afterwards) is not compatible with python 3)\n",
    "\n",
    "the default version invoked when running \"use Anaconda3\" failed when compiling pandas"
   ]
  },
  {
   "cell_type": "markdown",
   "metadata": {},
   "source": [
    "- After installing Anaconda, run the following commands to create an environment with LDSC's dependencies:"
   ]
  },
  {
   "cell_type": "code",
   "execution_count": null,
   "metadata": {
    "collapsed": true
   },
   "outputs": [],
   "source": [
    "conda env create --file environment.yml "
   ]
  },
  {
   "cell_type": "code",
   "execution_count": null,
   "metadata": {
    "collapsed": true
   },
   "outputs": [],
   "source": [
    "source activate ldsc"
   ]
  },
  {
   "cell_type": "markdown",
   "metadata": {},
   "source": [
    "- Once the above has completed, you can run:"
   ]
  },
  {
   "cell_type": "code",
   "execution_count": null,
   "metadata": {
    "collapsed": true
   },
   "outputs": [],
   "source": [
    "./ldsc.py -h\n",
    "./munge_sumstats.py -h"
   ]
  },
  {
   "cell_type": "markdown",
   "metadata": {},
   "source": [
    "to print a list of all command-line options. If these commands fail with an error, then something as gone wrong during the installation process.\n",
    "\n",
    "Short tutorials describing the four basic functions of ldsc (estimating LD Scores, h2 and partitioned h2, genetic correlation, the LD Score regression intercept) can be found in the wiki. If you would like to run the tests, please see the wiki."
   ]
  },
  {
   "cell_type": "markdown",
   "metadata": {},
   "source": [
    "- Activate ldsc"
   ]
  },
  {
   "cell_type": "code",
   "execution_count": null,
   "metadata": {
    "collapsed": true
   },
   "outputs": [],
   "source": [
    "source activate ldsc"
   ]
  },
  {
   "cell_type": "markdown",
   "metadata": {},
   "source": [
    "2.5. R and R libraries"
   ]
  },
  {
   "cell_type": "markdown",
   "metadata": {},
   "source": [
    "Ricopili needs the \"rmeta\" library for R. To test for that, you need to open R.|"
   ]
  },
  {
   "cell_type": "code",
   "execution_count": null,
   "metadata": {
    "collapsed": true
   },
   "outputs": [],
   "source": [
    "use R-3.5\n",
    "or\n",
    "use R_program_name_you_need (to know which R programs are available, write \"use -l\")\n"
   ]
  },
  {
   "cell_type": "markdown",
   "metadata": {},
   "source": [
    "Then run:"
   ]
  },
  {
   "cell_type": "code",
   "execution_count": null,
   "metadata": {
    "collapsed": true
   },
   "outputs": [],
   "source": [
    "library(rmeta)"
   ]
  },
  {
   "cell_type": "markdown",
   "metadata": {},
   "source": [
    "Or install it before if you don't have it:'"
   ]
  },
  {
   "cell_type": "code",
   "execution_count": null,
   "metadata": {
    "collapsed": true
   },
   "outputs": [],
   "source": [
    "install.packages(\"rmeta\")\n",
    "library(rmeta)"
   ]
  },
  {
   "cell_type": "markdown",
   "metadata": {},
   "source": [
    "Later in the Ricopili installation you will need the path for the installed package , so keep note of it. Type this command within R to get the path:"
   ]
  },
  {
   "cell_type": "code",
   "execution_count": null,
   "metadata": {
    "collapsed": true
   },
   "outputs": [],
   "source": [
    ".libPaths()"
   ]
  },
  {
   "cell_type": "markdown",
   "metadata": {},
   "source": [
    "On top of keeping note of this path, make sure to make it “readable” for others, so that future users in the same cluster environment can use your custom-file as a template as well as re-use your dependency downloads."
   ]
  },
  {
   "cell_type": "markdown",
   "metadata": {},
   "source": [
    "2.6. TeX Live / pdflatex"
   ]
  },
  {
   "cell_type": "markdown",
   "metadata": {},
   "source": [
    "- Checkout if pdflatex is installed on your system with:"
   ]
  },
  {
   "cell_type": "code",
   "execution_count": null,
   "metadata": {
    "collapsed": true
   },
   "outputs": [],
   "source": [
    "pdflatex --help"
   ]
  },
  {
   "cell_type": "markdown",
   "metadata": {},
   "source": [
    "If you get output then this section is finished for you. If you get something like \"-bash: latex: command not found\" you should follow these instructions to get it installed:\n"
   ]
  },
  {
   "cell_type": "markdown",
   "metadata": {},
   "source": [
    "- Create subdirectories \"local\" and \"local/bin\" in your $HOME directory if not already there."
   ]
  },
  {
   "cell_type": "markdown",
   "metadata": {},
   "source": [
    "- in a directory of your choice: Download install-tl-unx.tar.gz from https://www.tug.org/texlive/acquire-netinstall.html and unpack (tar -xvf ….)"
   ]
  },
  {
   "cell_type": "markdown",
   "metadata": {},
   "source": [
    "- From within the new unzipper directory run the ./install-tl script."
   ]
  },
  {
   "cell_type": "raw",
   "metadata": {},
   "source": [
    "- A table with a number of available options will come up.\n",
    "\n",
    "a) Select \"S\" to \"set an installation scheme\". Then \"d\" for \"basic scheme (plain and latex)\" should suffice, unless you want to install more utilities. Then \"R\"eturn to the main menu.\n",
    "\n",
    "b) Select \"D\" to \"set directories\", then \"1\" to set the basic installation directory. You should set this into your home directory (e.g. ~/latex/), so that TeX will have writing permissions for the installation.Then \"R\"eturn to the main menu.\n",
    "\n",
    "c) Then select “I” to start the installation of latex\n"
   ]
  },
  {
   "cell_type": "raw",
   "metadata": {},
   "source": [
    "- After the installation is done, you have to add the pdflatex location to your PATH:\n",
    "\n",
    "a) Open .my.bashrc with a text editor\n",
    "\n",
    "b) Copy these lines at the end of the file:\n",
    "\n",
    "#Textlive\n",
    "\n",
    "export PATH=/home/unix/ldomenec/texttlive/bin/x86_64-linux:$PATH\n",
    "\n",
    "export MANPATH=/home/unix/ldomenec/texttlive/texmf-dist/doc/man:$MANPATH\n",
    "\n",
    "export INFOPATH=/home/unix/ldomenec/texttlive/texmf-dist/doc/info:$INFOPATH\n",
    "\n",
    "\n",
    "!!! very important: the order of $PATH and the pdflatex-directory matters, e.g. this here might get you in trouble at broad: PATH=$PATH:PDFLOC/bin/x86_64-linux\n"
   ]
  },
  {
   "cell_type": "markdown",
   "metadata": {},
   "source": [
    "2.7. Online Reference of binaries used in Ricopili (no action needed here):"
   ]
  },
  {
   "cell_type": "markdown",
   "metadata": {
    "collapsed": true
   },
   "source": [
    "METAL - http://www.sph.umich.edu/csg/abecasis/Metal/download/\n",
    "TABIX - https://sourceforge.net/projects/samtools/files/tabix/\n",
    "Bfctools - http://www.htslib.org/download/ (set bgziploc, bcrloc)\n",
    "IMPUTE4 - https://jmarchini.org/impute-4/ (set i4loc)\n",
    "Minimac3 - https://genome.sph.umich.edu/wiki/Minimac3\n",
    "SHAPEIT3 - https://jmarchini.org/shapeit3/\n",
    "PLINK2 - https://www.cog-genomics.org/plink2/\n",
    "EAGLE - https://data.broadinstitute.org/alkesgroup/Eagle/downloads/\n",
    "IMPUTE2 - https://mathgen.stats.ox.ac.uk/impute/impute_v2.html\n",
    "EIGENSOFT - http://www.hsph.harvard.edu/alkes-price/software/\n",
    "Liftover - http://genome.ucsc.edu/cgi-bin/hgLiftOver\n",
    "LDSC - https://github.com/bulik/ldsc\n",
    "Statistics-Distributions-1.02 - https://www.cpan.org/authors/id/M/MI/MIKEK/Statistics-Distributions-1.02.tar.gz\n",
    "Spreadsheet-WriteExcel - https://metacpan.org/release/Spreadsheet-WriteExcel"
   ]
  },
  {
   "cell_type": "markdown",
   "metadata": {},
   "source": [
    "2.8. Mail"
   ]
  },
  {
   "cell_type": "markdown",
   "metadata": {},
   "source": [
    "If you don’t have the program “mail” in your path, ricopili might fail."
   ]
  },
  {
   "cell_type": "markdown",
   "metadata": {},
   "source": [
    "Here is how you can create a “fake” binary, that won’t send you emails but will protect ricopili from dying along the way (assuming ~/bin is included early in your $PATH):"
   ]
  },
  {
   "cell_type": "code",
   "execution_count": null,
   "metadata": {
    "collapsed": true
   },
   "outputs": [],
   "source": [
    "mkdir -p ~/bin && ln -sfT /bin/true ~/bin/mail"
   ]
  },
  {
   "cell_type": "markdown",
   "metadata": {},
   "source": [
    "2.9. Python 2.7 "
   ]
  },
  {
   "cell_type": "markdown",
   "metadata": {},
   "source": [
    "On some systems you might have to add some python modules. The following is a system specific solution from Robert Karlsson on Uppmax/bianca. Please consult your IT helpdesk or other sources for installing these modules on your system. In the custom file from Robert Karlsson (see Example Values from Uppmax in the google spreadsheet: https://docs.google.com/spreadsheets/d/1LhNYIXhFi7yXBC17UkjI1KMzHhKYz0j2hwnJECBGZk4/edit#gid=255132922) you will see how this is then embedded into the custom-file. \n",
    "\n",
    "On the internet-connected server (rackham), do this:\n",
    "\n",
    "module add python/2.7.11\n",
    "\n",
    "mkdir -p python_modules\n",
    "\n",
    "pip install --target python_modules --no-deps bitarray==0.8 pandas==0.20 pybedtools==0.7 pysam==0.15\n",
    "\n",
    "tar czf ricopili_python_modules_`date +%y%m%d`.tar.gz python_modules\n",
    "\n",
    "\n",
    "Then unpack the resulting tar.gz file in the ricopili dependencies folder on the secure server (bianca)\n"
   ]
  },
  {
   "cell_type": "markdown",
   "metadata": {},
   "source": [
    "2.10. Other Users"
   ]
  },
  {
   "cell_type": "markdown",
   "metadata": {},
   "source": [
    "If you have successfully downloaded / installed the Ricopili Dependencies make sure to make the Dependency directory recursively readable/executable for all."
   ]
  },
  {
   "cell_type": "code",
   "execution_count": null,
   "metadata": {
    "collapsed": true
   },
   "outputs": [],
   "source": [
    "chmod -R go+rx *"
   ]
  },
  {
   "cell_type": "markdown",
   "metadata": {},
   "source": [
    "# 3. Ricopili Scripts"
   ]
  },
  {
   "cell_type": "markdown",
   "metadata": {},
   "source": [
    "3.1. Configure Ricopili Scripts"
   ]
  },
  {
   "cell_type": "markdown",
   "metadata": {
    "collapsed": true
   },
   "source": [
    "Start the script rp_config. Please read this footnote () since you can start with some historically successful configuration files for various computer cluster environments. "
   ]
  },
  {
   "cell_type": "code",
   "execution_count": null,
   "metadata": {
    "collapsed": true
   },
   "outputs": [],
   "source": [
    "./rp_config"
   ]
  },
  {
   "cell_type": "markdown",
   "metadata": {},
   "source": [
    "If Ricopili is already installed in the system under your account, it will ask you if you wish to unset the Ricopili PATH settings first. For first time custom installation it is highly recommended to do so. The configuration script will give you the two commands you have to issue. You just need to copy/paste them into the command line. \n",
    "\n",
    "If the configuration script cannot find a configuration file (by default the script is looking for a file named rp_config.custom.txt) an empty file is created, that needs to be filled by you and/or a system-administrator with the knowledge gained in the previous chapters.\n",
    "\n",
    "This file follows a two column structure, where variable-names are found in the first column and variable-values in the second. “###” means comments, everything after that is discarded.\n",
    "\n",
    "- Whitespace can be as long as necessary\n",
    "- Spaces are not allowed. Please use term _SPACE_ if needed.\n",
    "- The Template file will have no values, Here you find a commented version of this file with example parameters:\n",
    "\n",
    "https://docs.google.com/spreadsheets/d/1LhNYIXhFi7yXBC17UkjI1KMzHhKYz0j2hwnJECBGZk4/edit#gid=255132922\n",
    "\n",
    "- If you don’t find a solution to very special environments please do not hesitate to contact us (we are happy to help)\n",
    "- If you created a successful custom-file for your environment, please share back with us, so we can make them available to the community\n",
    "- If you don’t want to use a scheduler, please take any value (e.g. SERIAL) for the second half of the file. If you use --serial and --sepa for all Ricopili modules these flags will be discarded.\n",
    "- Every Variable needs to have a value in the second column. If it doesn’t apply (e.g. no job scheduler, or no need for LDScore) you still need to provide mock values (NA or SERIAL).\n",
    "\n",
    "After (rp_config.custom.txt) has been filled by you and/or the administrator you need to restart rp_config and choose “custom” again. The configuration script will configure ricopili now based on the information provided in rp_config.custom.txt.\n",
    "If configuration ran successfully (after Testing Ricopili below), you can re-use your customfile for any future Ricopili version.\n",
    "\n",
    "For some users it might be necessary to use another directory for the file ricopili.conf (by default ricopili chooses the $HOME directory). You can change that with flag --rphome.\n",
    "\n",
    "You can use the term DEPDIR in your customfile and then replace all occurrencies of this term with the flag --depdir. This is useful for the dependency directory, which usually gets used multiple times.\n",
    "\n",
    "\n"
   ]
  },
  {
   "cell_type": "code",
   "execution_count": null,
   "metadata": {
    "collapsed": true
   },
   "outputs": [],
   "source": [
    "When running ./rp_config (in ~/Ricopili/rp_bin) make sure that you are in the cluster after doing:\n",
    "use UGER\n",
    "use ish\n",
    "use .anaconda2-5.3.1"
   ]
  },
  {
   "cell_type": "markdown",
   "metadata": {},
   "source": [
    "The first time, it will ask to copy this at the end of your .my.bashrc file:\n",
    "\n",
    "#Ricopili\n",
    "PATH=/home/unix/ldomenec/Ricopili/rp_bin:$PATH\n",
    "PATH=/home/unix/ldomenec/Ricopili/rp_bin/pdfjam:$PATH\n",
    "export rp_perlpackages=/home/unix/ldomenec/Ricopili_Dependencies.1118b/perl_modules\n",
    "export RPHOME=/home/unix/ldomenec"
   ]
  },
  {
   "cell_type": "code",
   "execution_count": null,
   "metadata": {
    "collapsed": true
   },
   "outputs": [],
   "source": [
    "After doing this, close the terminal tab, open a new one, start again with:\n",
    "use UGER\n",
    "use ish\n",
    "use .anaconda2-5.3.1"
   ]
  },
  {
   "cell_type": "markdown",
   "metadata": {},
   "source": [
    "After that, run this again:"
   ]
  },
  {
   "cell_type": "markdown",
   "metadata": {
    "collapsed": true
   },
   "source": [
    "If everything is correct, you the terminal will return you a message like this:\n",
    "\n",
    "-----------------------------------------------------------------------------\n",
    "-----------------------------------------------------------------------------\n",
    "-------------------------   RP_CONFIG    ------------------------------------\n",
    "-----------------------------------------------------------------------------\n",
    "-----------------------------------------------------------------------------\n",
    " Script to ease Downloading, Configuration, Installation of Ricopili\n",
    "-----------------------------------------------------------------------------\n",
    "        please use flag --help if you are not familiar with its usage\n",
    "-----------------------------------------------------------------------------\n",
    "-----------------------------------------------------------------------------\n",
    "\n",
    "\n",
    "Using the following cluster: custom\n",
    "in combination with rp_config.custom.txt\n",
    "\n",
    "<variable_name> <variable_value>\n",
    "<rp_dependencies_dir> </home/unix/ldomenec/Ricopili_Dependencies.1118b>\n",
    "<R_packages_dir> </broad/software/free/Linux/redhat_6_x86_64/pkgs/r_2.14.0/lib64/R/library>\n",
    "<starting_R> <source_SPACE_/broad/software/scripts/useuse;_SPACE_use_SPACE_R-2.15;_SPACE_R>\n",
    "<path_to_Perlmodules> </home/unix/ldomenec/Ricopili_Dependencies.1118b/perl_modules>\n",
    "<path_to_scratchdir> </home/unix/ldomenec/Riopili>\n",
    "<starting_ldsc> <source_SPACE_/broad/software/scripts/useuse;_SPACE_use_SPACE_.anaconda-2.1.0-no-mkl;_SPACE_python_SPACE_/home/unix/ldomenec/Ricopili_Dependencies.1118b/ldsc>\n",
    "<ldsc_reference> </home/unix/ldomenec/Ricopili_Dependencies.1118b/ldsc>\n",
    "<rp_user_initials> <lds>\n",
    "<rp_user_email> <ldomenechsalgado@mgh.harvard.edu>\n",
    "<rp_logfiles> </home/unix/ldomenec/Ricopili>\n",
    "<batch_jobcommand> <qsub>\n",
    "<batch_memory_request> <-l_SPACE_h_vmem=XXXg>\n",
    "<batch_walltime> <-l_SPACE_h_rt=HH:MM:SS>\n",
    "<batch_array> <-t_SPACE_1-XXX>\n",
    "<batch_max_parallel_jobs_per_one_array> <-tc_SPACE_YYY>\n",
    "<batch_jobfile> <XXX>\n",
    "<batch_name> <-N_SPACE_XXX>\n",
    "<batch_stdout> <-o_SPACE_XXX>\n",
    "<batch_stderr> <-e_SPACE_XXX>\n",
    "<batch_job_dependency> <-hold_jid_SPACE_XXX>\n",
    "<batch_array_task_id> <$SGE_TASK_ID>\n",
    "<batch_other_job_flags> <NONE>\n",
    "<batch_job_output_jid> <Your_SPACE_job-array_SPACE_XXX.1-YYY:1_SPACE(\"ZZZ\")_SPACE_has_SPACE_been_SPACE_submitted>\n",
    "<batch_ncores_per_node> <NA>\n",
    "<batch_mem_per_node> <NA>\n",
    "\n",
    "\n",
    "You are using the following shell (is this correct? if not please stop with ctr-c): bash\n",
    "\n",
    " - bash detected - \n",
    "\n",
    "Required directories found in search path:\n",
    "\trp_bin/ -- success\n",
    "\trp_bin/pdfjam/ -- success\n",
    "\n",
    "Detected latex is installed.\n",
    "\n",
    "Detected rp_perlpackages as an environmental variable.\n",
    "\n",
    "Detected RPHOME as an environmental variable.\n",
    "\n",
    "Using the following default scratch directory:\n",
    "\t/home/unix/ldomenec/Riopili\n",
    "\n",
    "\n",
    "Creating pipeline status file to /home/unix/ldomenec/Ricopili/preimp_dir_info\n",
    "Creating pipeline status file to /home/unix/ldomenec/Ricopili/impute_dir_info\n",
    "Creating pipeline status file to /home/unix/ldomenec/Ricopili/pcaer_info\n",
    "Creating pipeline status file to /home/unix/ldomenec/Ricopili/idtager_info\n",
    "Creating pipeline status file to /home/unix/ldomenec/Ricopili/repqc2_info\n",
    "Creating pipeline status file to /home/unix/ldomenec/Ricopili/areator_info\n",
    "Creating pipeline status file to /home/unix/ldomenec/Ricopili/merge_caller_info\n",
    "Creating pipeline status file to /home/unix/ldomenec/Ricopili/postimp_navi_info\n",
    "Creating pipeline status file to /home/unix/ldomenec/Ricopili/reference_dir_info\n",
    "Creating pipeline status file to /home/unix/ldomenec/Ricopili/test_info\n",
    "Creating pipeline status file to /home/unix/ldomenec/Ricopili/clumper_info\n",
    "-------------------------------------------------------------------\n",
    "------------- here some tips        -------------------------------\n",
    "-------------------------------------------------------------------\n",
    "\n",
    "adding these commands to your ~/.bashrc can be very helpful(you have to logout and login again for these to be in effect)\n",
    "\n",
    "## for colored output of ls:\n",
    "alias ls='ls --color=auto'\n",
    "\n",
    "## for easy copy over to your local machine:\n",
    "alias c='sed \"s#.*#scp ldomenec@login03.broadinstitute.org.broadinstitute.org:$(pwd)/& .#\"'\n",
    "\n",
    "## for list of currently running jobs:\n",
    "alias q='bjobs -w'\n",
    "\n",
    "## different prompt:\n",
    "PS1=\"ldomenec@login03.broadinstitute.org.broadinstitute.org:\"'\\w'\" \"\n",
    "\n",
    "\n",
    "\n",
    "*********************************************************************\n",
    "*****  Installation successful                    *******************\n",
    "*********************************************************************\n",
    "*********************************************************************\n",
    "*********************************************************************\n",
    "*****  you should be able to use the pipeline as described        ***\n",
    "*****  if you want to use it from a different login:              ***\n",
    "*****    please logout and relogin so that PATH is set correctly  ***\n",
    "*****    or if you want to use ricopili in this session, please   ***\n",
    "*****       run the following from the command line               ***\n",
    "*********************************************************************\n",
    "*********************************************************************\n",
    "\n",
    "\n",
    "If you do not receive a success email with the subject rp_config, please check your email address is entered correctly at /home/unix/ldomenec/ricopili.conf"
   ]
  },
  {
   "cell_type": "markdown",
   "metadata": {},
   "source": [
    "3.2 Testing Ricopili"
   ]
  },
  {
   "cell_type": "markdown",
   "metadata": {},
   "source": [
    "Before you start analyzing real data it might be worth using the testing module since it tests for common installation errors."
   ]
  },
  {
   "cell_type": "markdown",
   "metadata": {},
   "source": [
    "3.2.1 Preparing the testing environment:"
   ]
  },
  {
   "cell_type": "markdown",
   "metadata": {},
   "source": [
    "Please take a new empty directory (preferably not below the installation directory).\n",
    "\n",
    "Copy over (or symlink) the testing daner files from the subdir testing_data (subdir within the dependency download):\n",
    "- PGC_cohort1.ch.fl.r4.gz\n",
    "- PGC_cohort2.ch.fl.r4.gz\n",
    "- PGC_cohort3.ch.fl.r4.gz\n",
    "- PGC_cohort4.ch.fl.r4.gz\n",
    "- PGC_meta.r4.gz\n",
    "\n",
    "(The testing_data folder is in:\n",
    "/home/unix/ldomenec/Ricopili_Dependencies.1118b/testing_data)"
   ]
  },
  {
   "cell_type": "markdown",
   "metadata": {},
   "source": [
    "3.2.2. Start the testing module with"
   ]
  },
  {
   "cell_type": "code",
   "execution_count": null,
   "metadata": {
    "collapsed": true
   },
   "outputs": [],
   "source": [
    "rp_test_navi"
   ]
  },
  {
   "cell_type": "markdown",
   "metadata": {},
   "source": [
    "#When doing that, I got the following error:\n",
    "\n",
    "    LaTeX package pdfpages.sty is not installed\n",
    "    \n",
    "Ricopili instructions already say: \n",
    "\n",
    "    \"A possible problem with pdfjoin (combining and arranging PDFs is that you get an error like this): ERROR: LaTeX package pdfpages.sty is not installed. We are working on finding a local solution that you can solve by yourself, but meanwhile ask your system admins to install this package systemwide, that probably solves this problem: texlive-latex-extra\"\n",
    "\n",
    "So, I run this command in my directory:\n",
    "\n",
    "tlmgr install pdfpages\n",
    "\n",
    "\n",
    "(I couldn't do \n",
    "\n",
    "sudo apt-get install texlive-latex-recommended\n",
    "\n",
    "because I had no permissions).\n",
    "\n",
    "\n",
    "Now is running and I obtained the following message:\n",
    "\n",
    "------------------------------------------------------------\n",
    "20 jobs successfully submitted\n",
    "\n",
    "please see tail of /home/unix/ldomenec/Ricopili/test_info for regular updates\n",
    "\n",
    "also check bjobs -w for running jobs\n",
    "\n",
    "possibly different command on different computer cluster: e.g. qstat -u USER\n",
    "\n",
    "you will be informed via email if errors or successes occur\n",
    "\n",
    "------------------------------------------------------------\n"
   ]
  },
  {
   "cell_type": "markdown",
   "metadata": {},
   "source": [
    "#############################################################################\n",
    " When starting again, make sure you activate everything (ldsc, for example!)\n",
    "        Make sure that you give enought memory for the testing-module\n",
    "#############################################################################"
   ]
  },
  {
   "cell_type": "markdown",
   "metadata": {},
   "source": [
    "# 4. Troubleshooting"
   ]
  },
  {
   "cell_type": "markdown",
   "metadata": {},
   "source": [
    "BUT IT STOPPED RUNNING!!! THERE WERE SOME PROBLEMS THAT I SOLVED FOLLOWING THESE STEPS:"
   ]
  },
  {
   "cell_type": "markdown",
   "metadata": {},
   "source": [
    "1. There was a problem with pdflatex/pdfjam/pdfjoin\n",
    "\n",
    "\n",
    "I had to change pdfjam.config (in /home/unix/ldomenec) adding the path to the pdflatex installed in my direcotry like this:\n",
    "\n",
    "###############################################################\n",
    "\n",
    "##UNUSUAL TEX INSTALLATION, OR SPECIFIC LATEX WANTED?\n",
    "\n",
    "##Specify the full path to the 'latex' to be used.\n",
    "##Examples:\n",
    "\n",
    "#latex='/usr/bin/pdflatex'     ## typical unix installation\n",
    "#latex='/usr/texbin/pdflatex'  ## for MacTeX on Mac OS X?\n",
    "#latex='C:/texmf/miktex/bin/pdflatex.exe'    ## Windows??\n",
    "\n",
    "#latex='/usr/bin/xelatex'     ## if you want xelatex\n",
    "#latex='/usr/bin/lualatex'    ## if you want lualatex\n",
    "\n",
    "latex='/home/unix/ldomenec/texttlive/bin/x86_64-linux/pdflatex'\n",
    "\n",
    "###############################################################\n",
    "\n",
    "\n",
    "\n",
    "Then I changed the configpath from the pdfjam script (home/unix/ldomenec/Ricopili/rp_bin/pdfjam), specifying the directory where the pdfjam.config that I've just modified was.\n",
    "\n",
    "I changed the configpath like this:\n",
    "\n",
    "#########################################################################\n",
    "                                                                     \n",
    "pdfjam: A shell-script interface to the \"pdfpages\" LaTeX package                                                                                                                        \n",
    "Author: David Firth (http://go.warwick.ac.uk/dfirth)               \n",
    "                                                                     \n",
    "Usage: see http://go.warwick.ac.uk/pdfjam or \"pdfjam --help\"       \n",
    "                                                                  \n",
    "Relies on:                                                         \n",
    "-- pdflatex                                                        \n",
    "-- the 'pdfpages' package for LaTeX (ideally version >= 0.4f)      \n",
    "                                                                    \n",
    "License: GPL version 2 or later.  This software comes with         \n",
    "ABSOLUTELY NO WARRANTY of fitness for any purpose at all; if you   \n",
    "do not accept that, then you must not use it.                      \n",
    "                                                                   \n",
    "The path searched for site-wide configuration files can be set     \n",
    "by editing the following variable:                                 \n",
    "                                                                   \n",
    "#configpath='/etc:/usr/share/etc:/usr/local/share:/usr/local/etc'   \n",
    "\n",
    "configpath='/home/unix/ldomenec/'                                    \n",
    "\n",
    "Nothing else in this file should need to be changed.               \n",
    "                                                                   \n",
    "#########################################################################\n",
    "\n",
    "\n",
    "Then I had to install pdflscape (it was missing, and producing an error) doing:\n",
    "\n",
    "$tlmgr install pdflscape"
   ]
  },
  {
   "cell_type": "markdown",
   "metadata": {},
   "source": [
    "2. Now LDSC is not working.\n",
    "\n",
    "However, I do have now an error with the next step (never ending...). The next step of the testing script is the ldsc. If you remember (or see in the first messages), to install Ricopili I had to install first ldsc, and I was not able to do it. You explained me how to do it, and one of the key things was using anaconda2-5.3.1, because munge_sumstats.py is not compatible with python 3.\n",
    "\n",
    "Now, the error that I have is this one:\n",
    "\n",
    "Error with munging: source /broad/software/scripts/useuse; use .anaconda2-5.3.1; python /stanley/scharf_lab_storage/ldomenec/ricopili_laura/Ricopili_Dependencies/ldsc/munge_sumstats.py --sumstats PGC_meta.r4.gz  --daner --out PGC_meta.r4.gz.ldsc --merge-alleles /stanley/scharf_lab_storage/ldomenec/ricopili_laura/Ricopili_Dependencies/ldsc/w_hm3.snplist\n",
    "\n",
    " \n",
    "\n",
    "And I don't if there's something wrong with the python that the system is using (I'm a little bit confused with this). So I tried to understand it. I did\n",
    "\n",
    "use UGER\n",
    "ish -l h_vmem=4G\n",
    "use UGER\n",
    "source activate ldsc #in Ricopili instructions they say to activate ldsc environment (which I already had) and activate ldsc\n",
    "use .anaconda2-5.3.1\n",
    "\n",
    "When I do 'echo $PATH' I obtain:\n",
    "/broad/software/free/Linux/redhat_7_x86_64/pkgs/anaconda2_5.3.1/bin:/broad/uge/8.5.5/bin/lx-amd64:/home/unix/ldomenec/.conda/envs/ldsc/bin:/broad/software/free/Linux/redhat_7_x86_64/pkgs/anaconda3_5.3.1/condabin:/stanley/scharf_lab_storage/ldomenec/ricopili_laura/Ricopili/rp_bin/pdfjam:/stanley/scharf_lab_storage/ldomenec/ricopili_laura/Ricopili/rp_bin:/home/unix/ldomenec/PRIMUS_v1.8.0/bin:/stanley/scharf_lab_storage/ldomenec/picopili/bin:/home/unix/ldomenec/EIG-master/bin:/home/unix/ldomenec/texttlive/bin/x86_64-linux:/home/unix/ldomenec/google-cloud-sdk/bin:/bin:/usr/bin:/usr/local/sbin:/usr/sbin:/opt/puppetlabs/bin:/home/unix/ldomenec/bin\n",
    "\n",
    "and I see 2 anaconda paths. I don't know if maybe this is what's giving me the error... Could this be the problem?\n",
    "\n",
    "\n",
    "\n",
    "\n",
    "So... I did uninstall environment ldsc conda\n",
    "\n",
    "rm -r /home/unix/ldomenec/.conda/envs/ldsc\n",
    "\n",
    "rm /home/unix/ldomenec/.conda/environments.txt (take care if you have more than one environment! It will remove all, you can remove only the line of ldsc instead)\n",
    "\n",
    "\n",
    "\n",
    "And in .bashrc I commented all the part referring to conda environment, as it was defining another version (not) as base:\n",
    "\n",
    "#>>> conda initialize >>>\n",
    "#!! Contents within this block are managed by 'conda init' !!\n",
    "#__conda_setup=\"$('/broad/software/free/Linux/redhat_7_x86_64/pkgs/anaconda3_5.3.1/bin/conda' 'shell.bash' 'hook' 2> /dev/null)\"\n",
    "#if [ $? -eq 0 ]; then\n",
    "#eval \"$__conda_setup\"\n",
    "#else\n",
    "#if [ -f \"/broad/software/free/Linux/redhat_7_x86_64/pkgs/anaconda3_5.3.1/etc/profile.d/conda.sh\" ]; then\n",
    "#. \"/broad/software/free/Linux/redhat_7_x86_64/pkgs/anaconda3_5.3.1/etc/profile.d/conda.sh\"\n",
    "#else\n",
    "#export PATH=\"/broad/software/free/Linux/redhat_7_x86_64/pkgs/anaconda3_5.3.1/bin:$PATH\"\n",
    "#fi\n",
    "#fi\n",
    "#unset __conda_setup\n",
    "\n",
    "BEFORE:\n",
    "\n",
    "conda info --envs\n",
    "\n",
    "#conda environments:\n",
    "\n",
    "base                  *  /broad/software/free/Linux/redhat_7_x86_64/pkgs/anaconda3_5.3.1\n",
    "ldsc                     /home/unix/ldomenec/.conda/envs/ldsc\n",
    "\n",
    "\n",
    "AFTER COMMENTING THE CONDA SECTION IN .bashrc:\n",
    "\n",
    "conda info --envs\n",
    "#conda environments:\n",
    "\n",
    "base                  *  /broad/software/free/Linux/redhat_7_x86_64/pkgs/anaconda2_5.3.1\n",
    "ldsc                     /home/unix/ldomenec/.conda/envs/ldsc\n",
    "\n",
    "\n",
    "I then did:\n",
    "\n",
    "use UGER\n",
    "ish -l h_vmem=4G\n",
    "use UGER\n",
    "source activate ldsc #in Ricopili instructions they say to activate ldsc environment (which I already had) and activate ldsc\n",
    "use .anaconda2-5.3.1\n",
    "\n",
    "And then:\n",
    "rp_test_navi --serial --sepa INT\n",
    "\n",
    "\n",
    "#####And it worked! :D##### \n",
    "\n",
    "(btw, if you don't activate ldsc, it doesn't work!)"
   ]
  }
 ],
 "metadata": {
  "kernelspec": {
   "display_name": "Python 2",
   "language": "python",
   "name": "python2"
  },
  "language_info": {
   "codemirror_mode": {
    "name": "ipython",
    "version": 2
   },
   "file_extension": ".py",
   "mimetype": "text/x-python",
   "name": "python",
   "nbconvert_exporter": "python",
   "pygments_lexer": "ipython2",
   "version": "2.7.14"
  }
 },
 "nbformat": 4,
 "nbformat_minor": 2
}
